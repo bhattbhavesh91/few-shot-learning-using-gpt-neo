{
  "nbformat": 4,
  "nbformat_minor": 0,
  "metadata": {
    "colab": {
      "name": "few-shot-learning-gpt-neo-notebook.ipynb",
      "provenance": [],
      "collapsed_sections": []
    },
    "kernelspec": {
      "name": "python3",
      "display_name": "Python 3"
    },
    "language_info": {
      "name": "python"
    }
  },
  "cells": [
    {
      "cell_type": "code",
      "metadata": {
        "id": "R0JKpiEn9ae6"
      },
      "source": [
        "import json\n",
        "import requests\n",
        "from pprint import pprint"
      ],
      "execution_count": 35,
      "outputs": []
    },
    {
      "cell_type": "markdown",
      "metadata": {
        "id": "9jVRjcqrBOJF"
      },
      "source": [
        "# Secret Key for Free?"
      ]
    },
    {
      "cell_type": "markdown",
      "metadata": {
        "id": "ajItPmfGB4vn"
      },
      "source": [
        "[Free Access to the Key](https://huggingface.co/join)"
      ]
    },
    {
      "cell_type": "code",
      "metadata": {
        "id": "rrj6yMtH_5a0"
      },
      "source": [
        "with open('Hugging_Face_Secret_Key.json') as f:\n",
        "    key_data = json.load(f)"
      ],
      "execution_count": 36,
      "outputs": []
    },
    {
      "cell_type": "code",
      "metadata": {
        "id": "I29Ftcwb-vZ9"
      },
      "source": [
        "API_TOKEN = key_data[\"API_TOKEN\"]"
      ],
      "execution_count": 37,
      "outputs": []
    },
    {
      "cell_type": "markdown",
      "metadata": {
        "id": "q-cwXlMWBQ9N"
      },
      "source": [
        "# Query Function"
      ]
    },
    {
      "cell_type": "code",
      "metadata": {
        "id": "uh2Suz2M9nst"
      },
      "source": [
        "def query(payload='',parameters=None, options={'use_cache': False}):\n",
        "    API_URL = \"https://api-inference.huggingface.co/models/EleutherAI/gpt-neo-2.7B\"\n",
        "    headers = {\"Authorization\": f\"Bearer {API_TOKEN}\"}\n",
        "    body = {\"inputs\":payload,'parameters':parameters,'options':options}\n",
        "    response = requests.request(\"POST\", API_URL, headers=headers, data= json.dumps(body))\n",
        "    try:\n",
        "      response.raise_for_status()\n",
        "    except requests.exceptions.HTTPError:\n",
        "        return \"Error:\"+\" \".join(response.json()['error'])\n",
        "    else:\n",
        "      return response.json()[0]['generated_text']"
      ],
      "execution_count": 38,
      "outputs": []
    },
    {
      "cell_type": "markdown",
      "metadata": {
        "id": "OREwpJ0xBUgR"
      },
      "source": [
        "# Define Parameters"
      ]
    },
    {
      "cell_type": "code",
      "metadata": {
        "id": "KHKJd3y19qpC"
      },
      "source": [
        "parameters = {\n",
        "    'max_new_tokens':25,  \n",
        "    'temperature': 0.5, \n",
        "    'end_sequence': \"###\"\n",
        "}"
      ],
      "execution_count": 39,
      "outputs": []
    },
    {
      "cell_type": "markdown",
      "metadata": {
        "id": "kp6j7GcUBYF6"
      },
      "source": [
        "# Define a Prompt"
      ]
    },
    {
      "cell_type": "code",
      "metadata": {
        "id": "TgU4-GcV9sJe"
      },
      "source": [
        "prompt=\"\"\"Tweet: \"I hate it when my phone battery dies.\"\n",
        "Sentiment: Negative\n",
        "###\n",
        "Tweet: \"My day has been great so far\"\n",
        "Sentiment: Positive\n",
        "###\n",
        "Tweet: \"This is the link to the article\"\n",
        "Sentiment: Neutral\n",
        "###\n",
        "Tweet: \"This new music video was incredible\"\n",
        "Sentiment:\"\"\" "
      ],
      "execution_count": 44,
      "outputs": []
    },
    {
      "cell_type": "code",
      "metadata": {
        "id": "o8gCatqP9sL7"
      },
      "source": [
        "options={'use_cache': True}"
      ],
      "execution_count": 45,
      "outputs": []
    },
    {
      "cell_type": "markdown",
      "metadata": {
        "id": "2o7p5xmlBakf"
      },
      "source": [
        "# Query the API"
      ]
    },
    {
      "cell_type": "code",
      "metadata": {
        "id": "Y1zqi_xu-DyC"
      },
      "source": [
        "data = query(prompt,parameters, options)"
      ],
      "execution_count": 46,
      "outputs": []
    },
    {
      "cell_type": "code",
      "metadata": {
        "id": "ulh9Z_lxBc3A"
      },
      "source": [
        ""
      ],
      "execution_count": null,
      "outputs": []
    },
    {
      "cell_type": "markdown",
      "metadata": {
        "id": "kxlaD9zOBduo"
      },
      "source": [
        "# Print the Results"
      ]
    },
    {
      "cell_type": "code",
      "metadata": {
        "colab": {
          "base_uri": "https://localhost:8080/"
        },
        "id": "zZZdjNqf-Y_l",
        "outputId": "ebb11dfc-a305-4d98-c5d5-ab73261876c1"
      },
      "source": [
        "pprint(data)"
      ],
      "execution_count": 47,
      "outputs": [
        {
          "output_type": "stream",
          "text": [
            "('Tweet: \"I hate it when my phone battery dies.\"\\n'\n",
            " 'Sentiment: Negative\\n'\n",
            " '###\\n'\n",
            " 'Tweet: \"My day has been 👍\"\\n'\n",
            " 'Sentiment: Positive\\n'\n",
            " '###\\n'\n",
            " 'Tweet: \"This is the link to the article\"\\n'\n",
            " 'Sentiment: Neutral\\n'\n",
            " '###\\n'\n",
            " 'Tweet: \"This new music video was incredible\"\\n'\n",
            " 'Sentiment: Positive\\n'\n",
            " '###')\n"
          ],
          "name": "stdout"
        }
      ]
    },
    {
      "cell_type": "code",
      "metadata": {
        "id": "u9OeTnBkAaRu"
      },
      "source": [
        ""
      ],
      "execution_count": null,
      "outputs": []
    }
  ]
}